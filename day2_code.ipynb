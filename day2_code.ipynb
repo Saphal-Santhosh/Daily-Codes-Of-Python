{
  "nbformat": 4,
  "nbformat_minor": 0,
  "metadata": {
    "anaconda-cloud": {},
    "kernelspec": {
      "display_name": "Python 3",
      "language": "python",
      "name": "python3"
    },
    "language_info": {
      "codemirror_mode": {
        "name": "ipython",
        "version": 3
      },
      "file_extension": ".py",
      "mimetype": "text/x-python",
      "name": "python",
      "nbconvert_exporter": "python",
      "pygments_lexer": "ipython3",
      "version": "3.7.3"
    },
    "colab": {
      "name": "day2 code.ipynb",
      "provenance": []
    }
  },
  "cells": [
    {
      "cell_type": "markdown",
      "metadata": {
        "nbpages": {
          "level": 2,
          "link": "[1.2.2 Python Basics](https://jckantor.github.io/CBE30338/01.02-Python-Basics.html#1.2.2-Python-Basics)",
          "section": "1.2.2 Python Basics"
        },
        "id": "UN3lztV6gVCB"
      },
      "source": [
        "## 1.2.2 Python Basics"
      ]
    },
    {
      "cell_type": "code",
      "metadata": {
        "id": "y07rxgGkgsUu",
        "colab": {
          "base_uri": "https://localhost:8080/"
        },
        "outputId": "5fe633a8-f5fd-4fbf-fa25-f1a3fc532a77"
      },
      "source": [
        "print(\"Hello world\")"
      ],
      "execution_count": 1,
      "outputs": [
        {
          "output_type": "stream",
          "text": [
            "Hello world\n"
          ],
          "name": "stdout"
        }
      ]
    },
    {
      "cell_type": "code",
      "metadata": {
        "colab": {
          "base_uri": "https://localhost:8080/"
        },
        "id": "rkUwb1xj6-tT",
        "outputId": "05411841-1667-44fa-ffb5-e09d865b4dab"
      },
      "source": [
        "1 * 4"
      ],
      "execution_count": 2,
      "outputs": [
        {
          "output_type": "execute_result",
          "data": {
            "text/plain": [
              "4"
            ]
          },
          "metadata": {
            "tags": []
          },
          "execution_count": 2
        }
      ]
    },
    {
      "cell_type": "code",
      "metadata": {
        "id": "s7dY_A0n9my4",
        "colab": {
          "base_uri": "https://localhost:8080/"
        },
        "outputId": "d927ab32-80ff-4620-9e4a-c90c9926d41c"
      },
      "source": [
        "print(int(input(\"Enter a number\")) * 3)\n",
        "\n"
      ],
      "execution_count": 3,
      "outputs": [
        {
          "output_type": "stream",
          "text": [
            "Enter a number2\n",
            "6\n"
          ],
          "name": "stdout"
        }
      ]
    },
    {
      "cell_type": "code",
      "metadata": {
        "colab": {
          "base_uri": "https://localhost:8080/"
        },
        "id": "Ojge5ktBC4lM",
        "outputId": "9f073a26-54cd-4051-e452-bcd46ac6aba1"
      },
      "source": [
        "firstNumber = int(input(\"Enter a number\"))\n",
        "\n",
        "print(firstNumber * 3)\n",
        "print(firstNumber / 3)"
      ],
      "execution_count": 4,
      "outputs": [
        {
          "output_type": "stream",
          "text": [
            "Enter a number5\n",
            "15\n",
            "1.6666666666666667\n"
          ],
          "name": "stdout"
        }
      ]
    },
    {
      "cell_type": "code",
      "metadata": {
        "colab": {
          "base_uri": "https://localhost:8080/",
          "height": 35
        },
        "id": "e6G77FPX6KMS",
        "outputId": "f5c000ed-7e89-4108-a8f6-af43eedc38d1"
      },
      "source": [
        "\"Hello\" + \"World\" "
      ],
      "execution_count": 5,
      "outputs": [
        {
          "output_type": "execute_result",
          "data": {
            "application/vnd.google.colaboratory.intrinsic+json": {
              "type": "string"
            },
            "text/plain": [
              "'HelloWorld'"
            ]
          },
          "metadata": {
            "tags": []
          },
          "execution_count": 5
        }
      ]
    },
    {
      "cell_type": "code",
      "metadata": {
        "id": "uApql1FZFtau",
        "colab": {
          "base_uri": "https://localhost:8080/"
        },
        "outputId": "eee41cfc-6a38-4459-d0a6-d479d1e56f0d"
      },
      "source": [
        "username = 'saphal'\n",
        "password = '1234'\n",
        "\n",
        "userPassword = input(\"Enter the password\")\n",
        "\n",
        "if userPassword == password :\n",
        "  print(\"Welcome \"+username)\n",
        "  print(\"Hello\")\n",
        "\n",
        "else :\n",
        "  print(\"incorrect password\")\n"
      ],
      "execution_count": 7,
      "outputs": [
        {
          "output_type": "stream",
          "text": [
            "Enter the password1234\n",
            "Welcome saphal\n",
            "Hello\n"
          ],
          "name": "stdout"
        }
      ]
    },
    {
      "cell_type": "code",
      "metadata": {
        "colab": {
          "base_uri": "https://localhost:8080/"
        },
        "id": "hKaQItAT8aMv",
        "outputId": "a84ee941-6274-47bf-e8f5-3e092ad4de33"
      },
      "source": [
        "username = 'saphal'\n",
        "password = '1234'\n",
        "\n",
        "name = input(\"Enter the name\")\n",
        "userPassword = input(\"Enter the password\")\n",
        "\n",
        "if name==username :\n",
        "  if userPassword == password :\n",
        "    print(\"Welcome \"+username)\n",
        "  else :\n",
        "    print(\"Incorrect Password\")\n",
        "else :\n",
        "  print(\"This user is not in our database\")"
      ],
      "execution_count": 8,
      "outputs": [
        {
          "output_type": "stream",
          "text": [
            "Enter the namesaphal\n",
            "Enter the password1234\n",
            "Welcome saphal\n"
          ],
          "name": "stdout"
        }
      ]
    },
    {
      "cell_type": "code",
      "metadata": {
        "colab": {
          "base_uri": "https://localhost:8080/"
        },
        "id": "OEcuILcRBoux",
        "outputId": "4c8f946c-5e2f-46f0-978e-d930c15550e3"
      },
      "source": [
        "marks = int(input(\"Enter the mark\"))\n",
        "\n",
        "if marks > 90 :\n",
        "  print(\"Grade is A\")\n",
        "\n",
        "elif marks > 80 :\n",
        "  print(\"Grade is B\")\n",
        "\n",
        "else :\n",
        "  print(\"Failed!\")"
      ],
      "execution_count": 9,
      "outputs": [
        {
          "output_type": "stream",
          "text": [
            "Enter the mark87\n",
            "Grade is B\n"
          ],
          "name": "stdout"
        }
      ]
    },
    {
      "cell_type": "markdown",
      "metadata": {
        "id": "cldejIC8Eua5"
      },
      "source": [
        "Loops\n"
      ]
    },
    {
      "cell_type": "code",
      "metadata": {
        "colab": {
          "base_uri": "https://localhost:8080/"
        },
        "id": "-MZFeadyH-f-",
        "outputId": "8212c329-0ba2-40a4-edb8-fe457d8aa7a1"
      },
      "source": [
        "for anynumber in range(1, 11) :\n",
        "  print(anynumber*2)\n",
        "  "
      ],
      "execution_count": 10,
      "outputs": [
        {
          "output_type": "stream",
          "text": [
            "2\n",
            "4\n",
            "6\n",
            "8\n",
            "10\n",
            "12\n",
            "14\n",
            "16\n",
            "18\n",
            "20\n"
          ],
          "name": "stdout"
        }
      ]
    },
    {
      "cell_type": "code",
      "metadata": {
        "colab": {
          "base_uri": "https://localhost:8080/"
        },
        "id": "rpAlnW7TEtpS",
        "outputId": "1031a133-5947-4c3b-eebd-0b94d746a886"
      },
      "source": [
        "for anynumber in range(0, 10, 2) :\n",
        "  print(anynumber)"
      ],
      "execution_count": 11,
      "outputs": [
        {
          "output_type": "stream",
          "text": [
            "0\n",
            "2\n",
            "4\n",
            "6\n",
            "8\n"
          ],
          "name": "stdout"
        }
      ]
    },
    {
      "cell_type": "code",
      "metadata": {
        "colab": {
          "base_uri": "https://localhost:8080/"
        },
        "id": "DgEiA1IMKTNj",
        "outputId": "7169ffa7-ec87-483d-92b5-9f51e566b121"
      },
      "source": [
        "students = [\"Ravi\", \"Raja\", \"Naveen\", \"Rose\", \"Jane\"]\n",
        "students[1:4]"
      ],
      "execution_count": 12,
      "outputs": [
        {
          "output_type": "execute_result",
          "data": {
            "text/plain": [
              "['Raja', 'Naveen', 'Rose']"
            ]
          },
          "metadata": {
            "tags": []
          },
          "execution_count": 12
        }
      ]
    },
    {
      "cell_type": "code",
      "metadata": {
        "colab": {
          "base_uri": "https://localhost:8080/"
        },
        "id": "tsTLed0fMlGA",
        "outputId": "11cc88ef-bfd7-4875-a4c4-ad9554b540b8"
      },
      "source": [
        "for a in students:\n",
        "  print(\"Welcome\" + a)"
      ],
      "execution_count": 13,
      "outputs": [
        {
          "output_type": "stream",
          "text": [
            "WelcomeRavi\n",
            "WelcomeRaja\n",
            "WelcomeNaveen\n",
            "WelcomeRose\n",
            "WelcomeJane\n"
          ],
          "name": "stdout"
        }
      ]
    },
    {
      "cell_type": "code",
      "metadata": {
        "colab": {
          "base_uri": "https://localhost:8080/"
        },
        "id": "T_KwUPPSQBCQ",
        "outputId": "60375f7c-b099-440a-fd0e-a7447cfe0b14"
      },
      "source": [
        "for a in students:\n",
        "  print(\"Welcome\" + a)\n",
        "\n",
        "  if a == \"Naveen\":\n",
        "    break"
      ],
      "execution_count": 14,
      "outputs": [
        {
          "output_type": "stream",
          "text": [
            "WelcomeRavi\n",
            "WelcomeRaja\n",
            "WelcomeNaveen\n"
          ],
          "name": "stdout"
        }
      ]
    },
    {
      "cell_type": "markdown",
      "metadata": {
        "id": "Z8FCF6FdQleV"
      },
      "source": [
        "##Dictionary"
      ]
    },
    {
      "cell_type": "code",
      "metadata": {
        "colab": {
          "base_uri": "https://localhost:8080/"
        },
        "id": "hTolaXDHQkoW",
        "outputId": "e5c7887d-b902-48bb-f2f2-7076d30df39f"
      },
      "source": [
        "studentMarks = {\n",
        "    \"Ravi\" : 95,\n",
        "    \"Raju\" : 43,\n",
        "    \"Jane\" : 78,\n",
        "    \"Pooja\" :57,\n",
        "    \"Rahu\" :83\n",
        "}\n",
        "\n",
        "studentMarks[\"Ravi\"]"
      ],
      "execution_count": 15,
      "outputs": [
        {
          "output_type": "execute_result",
          "data": {
            "text/plain": [
              "95"
            ]
          },
          "metadata": {
            "tags": []
          },
          "execution_count": 15
        }
      ]
    },
    {
      "cell_type": "code",
      "metadata": {
        "id": "eAYidCwzRm03",
        "colab": {
          "base_uri": "https://localhost:8080/"
        },
        "outputId": "613ebb45-db6e-4d3b-e60e-0123cf68a774"
      },
      "source": [
        "studentMarks.keys()"
      ],
      "execution_count": 16,
      "outputs": [
        {
          "output_type": "execute_result",
          "data": {
            "text/plain": [
              "dict_keys(['Ravi', 'Raju', 'Jane', 'Pooja', 'Rahu'])"
            ]
          },
          "metadata": {
            "tags": []
          },
          "execution_count": 16
        }
      ]
    },
    {
      "cell_type": "code",
      "metadata": {
        "colab": {
          "base_uri": "https://localhost:8080/"
        },
        "id": "SOXY9XPYAItP",
        "outputId": "58384b02-6056-4f0b-a0ec-a1f16edbdc71"
      },
      "source": [
        "for key in studentMarks.keys():\n",
        "  #print(key)\n",
        "  #print(studentMarks[key])\n",
        "  #Pass criteria is 60\n",
        "  if studentMarks[key] > 60 :\n",
        "    print(key+\" has passed\")"
      ],
      "execution_count": 17,
      "outputs": [
        {
          "output_type": "stream",
          "text": [
            "Ravi has passed\n",
            "Jane has passed\n",
            "Rahu has passed\n"
          ],
          "name": "stdout"
        }
      ]
    },
    {
      "cell_type": "code",
      "metadata": {
        "colab": {
          "base_uri": "https://localhost:8080/"
        },
        "id": "ErpqGd2SFO2U",
        "outputId": "cd361303-920b-416f-ecb8-f2ede5df946f"
      },
      "source": [
        "for (name, marks) in studentMarks.items():\n",
        "\n",
        "  #print(key)\n",
        "  #print(studentMarks[key])\n",
        "  #Pass criteria is 60\n",
        "  if marks < 60 :\n",
        "    print(name+\" has passed\")"
      ],
      "execution_count": 18,
      "outputs": [
        {
          "output_type": "stream",
          "text": [
            "Raju has passed\n",
            "Pooja has passed\n"
          ],
          "name": "stdout"
        }
      ]
    }
  ]
}